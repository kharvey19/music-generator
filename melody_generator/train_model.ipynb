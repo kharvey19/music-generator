{
  "cells": [
    {
      "cell_type": "code",
      "execution_count": 9,
      "metadata": {
        "id": "pcpHiSTbYSbg"
      },
      "outputs": [],
      "source": [
        "import torch\n",
        "import torch.nn as nn\n",
        "import torch.optim as optim"
      ]
    },
    {
      "cell_type": "markdown",
      "metadata": {
        "id": "CRZT9SdIYoDN"
      },
      "source": [
        "Load Dataset"
      ]
    },
    {
      "cell_type": "code",
      "source": [
        "from music21 import corpus, chord, note, stream\n",
        "\n",
        "# Load one chorale\n",
        "chorale = corpus.chorales.Iterator().__next__()\n",
        "\n",
        "# Get soprano melody\n",
        "soprano = chorale.parts[0].flat.notes\n",
        "\n",
        "# Get chordified version of the chorale (all voices combined into chords)\n",
        "chords = chorale.chordify().flat.getElementsByClass('Chord')\n",
        "\n",
        "# Pair up chord and melody at roughly the same time step\n",
        "pairs = []\n",
        "for s_note in soprano:\n",
        "    # Find closest chord occurring at or before the melody note\n",
        "    chord_at_time = None\n",
        "    for c in chords:\n",
        "        if c.offset <= s_note.offset:\n",
        "            chord_at_time = c\n",
        "        else:\n",
        "            break\n",
        "    if chord_at_time:\n",
        "        chord_name = chord_at_time.pitchedCommonName  # like \"C major\"\n",
        "        note_name = s_note.nameWithOctave            # like \"E4\"\n",
        "        pairs.append((chord_name, note_name))\n",
        "\n",
        "print(pairs[:10])\n"
      ],
      "metadata": {
        "colab": {
          "base_uri": "https://localhost:8080/"
        },
        "id": "9vU01CDVMTiN",
        "outputId": "df1022ce-a9af-40e9-bd26-20734956f131"
      },
      "execution_count": 2,
      "outputs": [
        {
          "output_type": "stream",
          "name": "stdout",
          "text": [
            "[('G-major triad', 'G4'), ('G-major triad', 'G4'), ('D-major triad', 'D5'), ('G-major triad', 'B4'), ('D-major triad', 'A4'), ('E-minor triad', 'G4'), ('C-major triad', 'G4'), ('F#-diminished triad', 'A4'), ('G-major triad', 'B4'), ('D-major triad', 'A4')]\n"
          ]
        },
        {
          "output_type": "stream",
          "name": "stderr",
          "text": [
            "/usr/local/lib/python3.11/dist-packages/music21/stream/base.py:3689: Music21DeprecationWarning: .flat is deprecated.  Call .flatten() instead\n",
            "  return self.iter().getElementsByClass(classFilterList)\n"
          ]
        }
      ]
    },
    {
      "cell_type": "code",
      "source": [
        "len(pairs)"
      ],
      "metadata": {
        "colab": {
          "base_uri": "https://localhost:8080/"
        },
        "id": "bnO0B73lMxRN",
        "outputId": "f76dd7d0-1830-4533-cbed-3e78f75a9f04"
      },
      "execution_count": 3,
      "outputs": [
        {
          "output_type": "execute_result",
          "data": {
            "text/plain": [
              "46"
            ]
          },
          "metadata": {},
          "execution_count": 3
        }
      ]
    },
    {
      "cell_type": "code",
      "source": [
        "from music21 import corpus, chord, note\n",
        "\n",
        "# Store all (chord, melody) pairs here\n",
        "all_pairs = []\n",
        "\n",
        "# Loop over all chorales in the corpus\n",
        "for chorale in corpus.chorales.Iterator():\n",
        "\n",
        "    try:\n",
        "        # Get melody (soprano) part\n",
        "        soprano = chorale.parts[0].flat.notesAndRests.stream()\n",
        "\n",
        "        # Get chords by combining all parts\n",
        "        chords = chorale.chordify().flat.getElementsByClass('Chord')\n",
        "\n",
        "        # Extract (chord, note) pairs based on timing\n",
        "        for s_note in soprano.notes:\n",
        "            # Skip rests\n",
        "            if not isinstance(s_note, note.Note):\n",
        "                continue\n",
        "\n",
        "            # Find the closest chord that occurs at or before the note\n",
        "            matching_chord = None\n",
        "            for c in chords:\n",
        "                if c.offset <= s_note.offset:\n",
        "                    matching_chord = c\n",
        "                else:\n",
        "                    break\n",
        "\n",
        "            if matching_chord:\n",
        "                chord_name = matching_chord.pitchedCommonName  # e.g., 'C major'\n",
        "                note_name = s_note.nameWithOctave              # e.g., 'E4'\n",
        "                all_pairs.append((chord_name, note_name))\n",
        "\n",
        "    except Exception as e:\n",
        "        print(\"Skipping chorale due to error:\", e)\n"
      ],
      "metadata": {
        "colab": {
          "base_uri": "https://localhost:8080/"
        },
        "id": "DMzQfoqWM7Ac",
        "outputId": "8316cfcf-08d5-4011-acbd-245371980ed1"
      },
      "execution_count": 4,
      "outputs": [
        {
          "output_type": "stream",
          "name": "stderr",
          "text": [
            "/usr/local/lib/python3.11/dist-packages/music21/stream/base.py:3689: Music21DeprecationWarning: .flat is deprecated.  Call .flatten() instead\n",
            "  return self.iter().getElementsByClass(classFilterList)\n"
          ]
        }
      ]
    },
    {
      "cell_type": "code",
      "source": [
        "import csv\n",
        "\n",
        "with open(\"chord_melody_pairs.csv\", \"w\") as f:\n",
        "    writer = csv.writer(f)\n",
        "    writer.writerow([\"Chord\", \"Note\"])\n",
        "    writer.writerows(all_pairs)\n"
      ],
      "metadata": {
        "id": "Kue3AKRWNs7j"
      },
      "execution_count": 5,
      "outputs": []
    },
    {
      "cell_type": "code",
      "source": [
        "from google.colab import files\n",
        "files.download(\"chord_melody_pairs.csv\")\n"
      ],
      "metadata": {
        "colab": {
          "base_uri": "https://localhost:8080/",
          "height": 17
        },
        "id": "DxQVHMGBN1Gg",
        "outputId": "4b3ea5c4-f5e5-4973-c704-cf62740bab5a"
      },
      "execution_count": 6,
      "outputs": [
        {
          "output_type": "display_data",
          "data": {
            "text/plain": [
              "<IPython.core.display.Javascript object>"
            ],
            "application/javascript": [
              "\n",
              "    async function download(id, filename, size) {\n",
              "      if (!google.colab.kernel.accessAllowed) {\n",
              "        return;\n",
              "      }\n",
              "      const div = document.createElement('div');\n",
              "      const label = document.createElement('label');\n",
              "      label.textContent = `Downloading \"${filename}\": `;\n",
              "      div.appendChild(label);\n",
              "      const progress = document.createElement('progress');\n",
              "      progress.max = size;\n",
              "      div.appendChild(progress);\n",
              "      document.body.appendChild(div);\n",
              "\n",
              "      const buffers = [];\n",
              "      let downloaded = 0;\n",
              "\n",
              "      const channel = await google.colab.kernel.comms.open(id);\n",
              "      // Send a message to notify the kernel that we're ready.\n",
              "      channel.send({})\n",
              "\n",
              "      for await (const message of channel.messages) {\n",
              "        // Send a message to notify the kernel that we're ready.\n",
              "        channel.send({})\n",
              "        if (message.buffers) {\n",
              "          for (const buffer of message.buffers) {\n",
              "            buffers.push(buffer);\n",
              "            downloaded += buffer.byteLength;\n",
              "            progress.value = downloaded;\n",
              "          }\n",
              "        }\n",
              "      }\n",
              "      const blob = new Blob(buffers, {type: 'application/binary'});\n",
              "      const a = document.createElement('a');\n",
              "      a.href = window.URL.createObjectURL(blob);\n",
              "      a.download = filename;\n",
              "      div.appendChild(a);\n",
              "      a.click();\n",
              "      div.remove();\n",
              "    }\n",
              "  "
            ]
          },
          "metadata": {}
        },
        {
          "output_type": "display_data",
          "data": {
            "text/plain": [
              "<IPython.core.display.Javascript object>"
            ],
            "application/javascript": [
              "download(\"download_49f178e4-d49b-4867-aa36-67b614e6dc3a\", \"chord_melody_pairs.csv\", 433863)"
            ]
          },
          "metadata": {}
        }
      ]
    },
    {
      "cell_type": "code",
      "execution_count": 7,
      "metadata": {
        "id": "XTSbVBGYYXxc",
        "colab": {
          "base_uri": "https://localhost:8080/"
        },
        "outputId": "a3ced7b5-24eb-426c-f4bf-707d6afad480"
      },
      "outputs": [
        {
          "output_type": "stream",
          "name": "stdout",
          "text": [
            "Chord to idx: {'A#-diminished seventh chord': 0, 'A#-diminished triad': 1, 'A#-major-third diminished tetrachord': 2, 'A-all-interval tetrachord': 3, 'A-augmented triad': 4, 'A-diminished seventh chord': 5, 'A-diminished triad': 6, 'A-dominant seventh chord': 7, 'A-dominant-eleventh': 8, 'A-dominant-ninth': 9, 'A-flat-ninth pentachord': 10, 'A-half-diminished seventh chord': 11, 'A-incomplete dominant-seventh chord': 12, 'A-incomplete major-seventh chord': 13, 'A-incomplete minor-seventh chord': 14, 'A-lydian tetrachord': 15, 'A-major pentachord': 16, 'A-major pentatonic': 17, 'A-major seventh chord': 18, 'A-major triad': 19, 'A-major-diminished tetrachord': 20, 'A-major-second major tetrachord': 21, 'A-major-second minor tetrachord': 22, 'A-minor seventh chord': 23, 'A-minor triad': 24, 'A-minor trichord': 25, 'A-minor-augmented tetrachord': 26, 'A-minor-diminished ninth chord': 27, 'A-minor-diminished tetrachord': 28, 'A-minor-ninth chord': 29, 'A-minor-second diminished tetrachord': 30, 'A-perfect-fourth diminished tetrachord': 31, 'A-perfect-fourth major tetrachord': 32, 'A-perfect-fourth minor tetrachord': 33, 'A-phrygian tetrachord': 34, 'A-quartal tetramirror': 35, 'A-quartal trichord': 36, 'A-tritone quartal tetrachord': 37, 'A-tritone-fourth': 38, 'A-whole-tone tetramirror': 39, 'Ab-all-interval tetrachord': 40, 'Ab-augmented seventh chord': 41, 'Ab-incomplete major-seventh chord': 42, 'Ab-major seventh chord': 43, 'Ab-major triad': 44, 'Ab-major-second major tetrachord': 45, 'Ab-minor triad': 46, 'Ab-perfect-fourth major tetrachord': 47, 'Ab-quartal trichord': 48, 'B': 49, 'B#-diminished seventh chord': 50, 'B-all-interval tetrachord': 51, 'B-diminished seventh chord': 52, 'B-diminished triad': 53, 'B-dominant seventh chord': 54, 'B-flat-ninth pentachord': 55, 'B-half-diminished seventh chord': 56, 'B-incomplete dominant-seventh chord': 57, 'B-incomplete half-diminished seventh chord': 58, 'B-incomplete major-seventh chord': 59, 'B-incomplete minor-seventh chord': 60, 'B-lydian tetrachord': 61, 'B-major pentatonic': 62, 'B-major triad': 63, 'B-major-diminished tetrachord': 64, 'B-major-second major tetrachord': 65, 'B-major-second minor tetrachord': 66, 'B-major-third diminished tetrachord': 67, 'B-minor seventh chord': 68, 'B-minor tetramirror': 69, 'B-minor triad': 70, 'B-minor trichord': 71, 'B-minor-second diminished tetrachord': 72, 'B-perfect-fourth diminished tetrachord': 73, 'B-perfect-fourth major tetrachord': 74, 'B-perfect-fourth minor tetrachord': 75, 'B-phrygian trichord': 76, 'B-quartal tetramirror': 77, 'B-quartal trichord': 78, 'B-tritone quartal tetrachord': 79, 'B-tritone-fourth': 80, 'Bb-all-interval tetrachord': 81, 'Bb-augmented major tetrachord': 82, 'Bb-augmented seventh chord': 83, 'Bb-augmented triad': 84, 'Bb-dominant seventh chord': 85, 'Bb-incomplete dominant-seventh chord': 86, 'Bb-incomplete major-seventh chord': 87, 'Bb-incomplete minor-seventh chord': 88, 'Bb-lydian pentachord': 89, 'Bb-major seventh chord': 90, 'Bb-major triad': 91, 'Bb-major-ninth chord': 92, 'Bb-major-second major tetrachord': 93, 'Bb-minor seventh chord': 94, 'Bb-minor triad': 95, 'Bb-minor-second quartal tetrachord': 96, 'Bb-perfect-fourth major tetrachord': 97, 'Bb-phrygian tetrachord': 98, 'Bb-quartal tetramirror': 99, 'Bb-quartal trichord': 100, 'Bb-tritone quartal tetrachord': 101, 'Bb-whole-tone trichord': 102, 'C': 103, 'C#-all-interval tetrachord': 104, 'C#-diminished seventh chord': 105, 'C#-diminished triad': 106, 'C#-dominant seventh chord': 107, 'C#-half-diminished seventh chord': 108, 'C#-incomplete dominant-seventh chord': 109, 'C#-incomplete half-diminished seventh chord': 110, 'C#-incomplete minor-seventh chord': 111, 'C#-major triad': 112, 'C#-major-third diminished tetrachord': 113, 'C#-minor seventh chord': 114, 'C#-minor tetramirror': 115, 'C#-minor triad': 116, 'C#-minor-second diminished tetrachord': 117, 'C#-perfect-fourth diminished tetrachord': 118, 'C#-quartal tetramirror': 119, 'C#-tritone-fourth': 120, 'C-all-interval tetrachord': 121, 'C-augmented major tetrachord': 122, 'C-augmented triad': 123, 'C-diminished triad': 124, 'C-dominant seventh chord': 125, 'C-dominant-eleventh': 126, 'C-dominant-ninth': 127, 'C-double-fourth tetramirror': 128, 'C-half-diminished seventh chord': 129, 'C-incomplete dominant-seventh chord': 130, 'C-incomplete major-seventh chord': 131, 'C-incomplete minor-seventh chord': 132, 'C-lydian tetrachord': 133, 'C-major pentachord': 134, 'C-major seventh chord': 135, 'C-major triad': 136, 'C-major-ninth chord': 137, 'C-major-second major tetrachord': 138, 'C-major-second minor tetrachord': 139, 'C-major-seventh pentacluster': 140, 'C-minor seventh chord': 141, 'C-minor triad': 142, 'C-minor-augmented tetrachord': 143, 'C-perfect-fourth major tetrachord': 144, 'C-phrygian tetrachord': 145, 'C-quartal tetramirror': 146, 'C-quartal trichord': 147, 'C-tritone quartal tetrachord': 148, 'C-whole-tone tetramirror': 149, 'C-whole-tone trichord': 150, 'D': 151, 'D#-diminished minor-ninth chord': 152, 'D#-diminished seventh chord': 153, 'D#-diminished triad': 154, 'D#-half-diminished seventh chord': 155, 'D#-incomplete minor-seventh chord': 156, 'D#-major triad': 157, 'D#-major-third diminished tetrachord': 158, 'D#-minor-second diminished tetrachord': 159, 'D#-perfect-fourth diminished tetrachord': 160, 'D#-perfect-fourth minor tetrachord': 161, 'D#-phrygian trichord': 162, 'D-Kumoi pentachord': 163, 'D-all-interval tetrachord': 164, 'D-augmented major tetrachord': 165, 'D-augmented seventh chord': 166, 'D-augmented triad': 167, 'D-diminished seventh chord': 168, 'D-diminished triad': 169, 'D-dominant seventh chord': 170, 'D-half-diminished seventh chord': 171, 'D-harmonic minor tetrachord': 172, 'D-incomplete dominant-seventh chord': 173, 'D-incomplete major-seventh chord': 174, 'D-incomplete minor-seventh chord': 175, 'D-locrian hexachord': 176, 'D-lydian tetrachord': 177, 'D-major pentachord': 178, 'D-major pentatonic': 179, 'D-major seventh chord': 180, 'D-major triad': 181, 'D-major-diminished tetrachord': 182, 'D-major-second major tetrachord': 183, 'D-major-second minor tetrachord': 184, 'D-minor seventh chord': 185, 'D-minor tetramirror': 186, 'D-minor triad': 187, 'D-minor-augmented tetrachord': 188, 'D-minor-ninth chord': 189, 'D-perfect-fourth major tetrachord': 190, 'D-perfect-fourth minor tetrachord': 191, 'D-phrygian tetrachord': 192, 'D-phrygian trichord': 193, 'D-quartal tetramirror': 194, 'D-quartal trichord': 195, 'D-tritone quartal tetrachord': 196, 'D-tritone-fourth': 197, 'Db-augmented major tetrachord': 198, 'Db-double-fourth tetramirror': 199, 'Db-incomplete major-seventh chord': 200, 'Db-major seventh chord': 201, 'Db-major triad': 202, 'Db-quartal trichord': 203, 'Db-whole-tone trichord': 204, 'Diminished Fifth with octave doublings above D#': 205, 'E': 206, 'E#-diminished seventh chord': 207, 'E#-diminished triad': 208, 'E-French augmented sixth chord in first inversion': 209, 'E-all-interval tetrachord': 210, 'E-diminished seventh chord': 211, 'E-diminished triad': 212, 'E-diminished-major ninth chord': 213, 'E-dominant seventh chord': 214, 'E-dominant-ninth': 215, 'E-dorian pentachord': 216, 'E-half-diminished seventh chord': 217, 'E-incomplete dominant-seventh chord': 218, 'E-incomplete major-seventh chord': 219, 'E-incomplete minor-seventh chord': 220, 'E-lydian tetrachord': 221, 'E-major pentatonic': 222, 'E-major seventh chord': 223, 'E-major triad': 224, 'E-major-diminished tetrachord': 225, 'E-major-second major tetrachord': 226, 'E-major-second minor tetrachord': 227, 'E-minor seventh chord': 228, 'E-minor tetramirror': 229, 'E-minor triad': 230, 'E-minor trichord': 231, 'E-minor-augmented tetrachord': 232, 'E-minor-diminished ninth chord': 233, 'E-minor-diminished tetrachord': 234, 'E-minor-major ninth chord': 235, 'E-minor-ninth chord': 236, 'E-minor-second diminished tetrachord': 237, 'E-perfect-fourth diminished tetrachord': 238, 'E-perfect-fourth major tetrachord': 239, 'E-perfect-fourth minor tetrachord': 240, 'E-quartal tetramirror': 241, 'E-quartal trichord': 242, 'E-tritone quartal tetrachord': 243, 'E-whole-tone tetramirror': 244, 'Eb-all-interval tetrachord': 245, 'Eb-augmented major tetrachord': 246, 'Eb-augmented seventh chord': 247, 'Eb-augmented triad': 248, 'Eb-dominant seventh chord': 249, 'Eb-incomplete dominant-seventh chord': 250, 'Eb-incomplete major-seventh chord': 251, 'Eb-major seventh chord': 252, 'Eb-major triad': 253, 'Eb-major-second major tetrachord': 254, 'Eb-minor triad': 255, 'Eb-minor-second quartal tetrachord': 256, 'Eb-phrygian tetrachord': 257, 'Eb-quartal trichord': 258, 'Eb-tritone quartal tetrachord': 259, 'F##-diminished seventh chord': 260, 'F#-all-interval tetrachord': 261, 'F#-diminished seventh chord': 262, 'F#-diminished triad': 263, 'F#-diminished-major ninth chord': 264, 'F#-dominant seventh chord': 265, 'F#-half-diminished seventh chord': 266, 'F#-incomplete dominant-seventh chord': 267, 'F#-incomplete minor-seventh chord': 268, 'F#-major pentachord': 269, 'F#-major triad': 270, 'F#-major-second minor tetrachord': 271, 'F#-major-third diminished tetrachord': 272, 'F#-minor seventh chord': 273, 'F#-minor tetramirror': 274, 'F#-minor triad': 275, 'F#-minor-diminished ninth chord': 276, 'F#-minor-second diminished tetrachord': 277, 'F#-perfect-fourth diminished tetrachord': 278, 'F#-perfect-fourth major tetrachord': 279, 'F#-perfect-fourth minor tetrachord': 280, 'F#-quartal tetramirror': 281, 'F#-quartal trichord': 282, 'F#-tritone quartal tetrachord': 283, 'F#-tritone-fourth': 284, 'F-Balinese Pelog pentatonic': 285, 'F-all-interval tetrachord': 286, 'F-augmented major tetrachord': 287, 'F-augmented seventh chord': 288, 'F-augmented triad': 289, 'F-dominant seventh chord': 290, 'F-incomplete dominant-seventh chord': 291, 'F-incomplete major-seventh chord': 292, 'F-incomplete minor-seventh chord': 293, 'F-lydian pentachord': 294, 'F-lydian tetrachord': 295, 'F-major pentachord': 296, 'F-major seventh chord': 297, 'F-major triad': 298, 'F-major-minor tetramirror': 299, 'F-major-ninth chord': 300, 'F-major-second major tetrachord': 301, 'F-major-second minor tetrachord': 302, 'F-minor seventh chord': 303, 'F-minor triad': 304, 'F-minor-augmented tetrachord': 305, 'F-minor-second quartal tetrachord': 306, 'F-perfect-fourth major tetrachord': 307, 'F-perfect-fourth minor tetrachord': 308, 'F-phrygian tetrachord': 309, 'F-quartal tetramirror': 310, 'F-quartal trichord': 311, 'F-tritone quartal tetrachord': 312, 'F-whole-tone trichord': 313, 'G': 314, 'G#-diminished seventh chord': 315, 'G#-diminished triad': 316, 'G#-dominant seventh chord': 317, 'G#-half-diminished seventh chord': 318, 'G#-incomplete dominant-seventh chord': 319, 'G#-incomplete minor-seventh chord': 320, 'G#-major triad': 321, 'G#-major-third diminished tetrachord': 322, 'G#-minor seventh chord': 323, 'G#-minor tetramirror': 324, 'G#-minor triad': 325, 'G#-minor-second diminished tetrachord': 326, 'G#-perfect-fourth diminished tetrachord': 327, 'G#-quartal tetramirror': 328, 'G#-tritone-fourth': 329, 'G-all-interval tetrachord': 330, 'G-augmented major tetrachord': 331, 'G-augmented seventh chord': 332, 'G-augmented triad': 333, 'G-diminished seventh chord': 334, 'G-diminished triad': 335, 'G-dominant seventh chord': 336, 'G-dominant-ninth': 337, 'G-dorian pentachord': 338, 'G-half-diminished seventh chord': 339, 'G-incomplete dominant-seventh chord': 340, 'G-incomplete major-seventh chord': 341, 'G-incomplete minor-seventh chord': 342, 'G-locrian hexachord': 343, 'G-lydian tetrachord': 344, 'G-major pentachord': 345, 'G-major seventh chord': 346, 'G-major triad': 347, 'G-major-diminished tetrachord': 348, 'G-major-minor tetramirror': 349, 'G-major-ninth chord': 350, 'G-major-second major tetrachord': 351, 'G-major-second minor tetrachord': 352, 'G-minor seventh chord': 353, 'G-minor triad': 354, 'G-minor trichord': 355, 'G-minor-augmented tetrachord': 356, 'G-minor-ninth chord': 357, 'G-minor-second quartal tetrachord': 358, 'G-perfect-fourth diminished tetrachord': 359, 'G-perfect-fourth major tetrachord': 360, 'G-perfect-fourth minor tetrachord': 361, 'G-phrygian hexamirror': 362, 'G-phrygian tetrachord': 363, 'G-quartal tetramirror': 364, 'G-quartal trichord': 365, 'G-tritone quartal tetrachord': 366, 'G-whole-tone tetramirror': 367, 'G-whole-tone trichord': 368, 'Gb-incomplete major-seventh chord': 369, 'Gb-major seventh chord': 370, 'Gb-major triad': 371, 'Major Second with octave doublings above A': 372, 'Major Second with octave doublings above D': 373, 'Major Second with octave doublings above F#': 374, 'Major Seventeenth above Bb': 375, 'Major Seventh above F': 376, 'Major Sixth above A': 377, 'Major Sixth with octave doublings above D': 378, 'Major Sixth with octave doublings above F': 379, 'Major Sixth with octave doublings above G': 380, 'Major Sixth with octave doublings above G#': 381, 'Major Tenth above A': 382, 'Major Tenth above Bb': 383, 'Major Tenth above D': 384, 'Major Tenth above E': 385, 'Major Third above F': 386, 'Major Third with octave doublings above A': 387, 'Major Third with octave doublings above Ab': 388, 'Major Third with octave doublings above B': 389, 'Major Third with octave doublings above Bb': 390, 'Major Third with octave doublings above C': 391, 'Major Third with octave doublings above D': 392, 'Major Third with octave doublings above Db': 393, 'Major Third with octave doublings above E': 394, 'Major Third with octave doublings above Eb': 395, 'Major Third with octave doublings above F': 396, 'Major Third with octave doublings above G': 397, 'Major Thirteenth above B': 398, 'Minor Sixth with octave doublings above A': 399, 'Minor Sixth with octave doublings above C#': 400, 'Minor Sixth with octave doublings above D#': 401, 'Minor Sixth with octave doublings above E': 402, 'Minor Third above A': 403, 'Minor Third with octave doublings above A': 404, 'Minor Third with octave doublings above B': 405, 'Minor Third with octave doublings above C': 406, 'Minor Third with octave doublings above C#': 407, 'Minor Third with octave doublings above D': 408, 'Minor Third with octave doublings above E': 409, 'Minor Third with octave doublings above F': 410, 'Minor Third with octave doublings above F#': 411, 'Minor Third with octave doublings above G': 412, 'Minor Third with octave doublings above G#': 413, 'Minor Thirteenth above D#': 414, 'Perfect Eleventh above C#': 415, 'Perfect Fifth above C': 416, 'Perfect Fifth with octave doublings above A': 417, 'Perfect Fifth with octave doublings above B': 418, 'Perfect Fifth with octave doublings above Bb': 419, 'Perfect Fifth with octave doublings above C': 420, 'Perfect Fifth with octave doublings above E': 421, 'Perfect Fifth with octave doublings above Eb': 422, 'Perfect Fifth with octave doublings above F': 423, 'Perfect Fifth with octave doublings above G': 424, 'Perfect Fourth above A': 425, 'Perfect Fourth above C#': 426, 'Perfect Fourth with octave doublings above A': 427, 'Perfect Fourth with octave doublings above B': 428, 'Perfect Fourth with octave doublings above Bb': 429, 'Perfect Fourth with octave doublings above C': 430, 'Perfect Fourth with octave doublings above D': 431, 'Perfect Fourth with octave doublings above E': 432, 'Perfect Fourth with octave doublings above F#': 433, 'Perfect Fourth with octave doublings above G': 434, 'Perfect Twelfth above B': 435, 'enharmonic equivalent to diminished triad above A': 436, 'enharmonic equivalent to diminished triad above A#': 437, 'enharmonic equivalent to diminished triad above B': 438, 'enharmonic equivalent to diminished triad above C': 439, 'enharmonic equivalent to diminished triad above C#': 440, 'enharmonic equivalent to diminished triad above D': 441, 'enharmonic equivalent to diminished triad above D#': 442, 'enharmonic equivalent to diminished triad above E': 443, 'enharmonic equivalent to diminished triad above F#': 444, 'enharmonic equivalent to diminished triad above G': 445, 'enharmonic equivalent to diminished triad above G#': 446, 'enharmonic equivalent to half-diminished seventh chord above C': 447, 'enharmonic equivalent to half-diminished seventh chord above Eb': 448}\n",
            "Note to idx: {'A#4': 0, 'A#5': 1, 'A-4': 2, 'A-5': 3, 'A3': 4, 'A4': 5, 'A5': 6, 'B#4': 7, 'B-4': 8, 'B-5': 9, 'B4': 10, 'B5': 11, 'C#4': 12, 'C#5': 13, 'C#6': 14, 'C4': 15, 'C5': 16, 'C6': 17, 'D#4': 18, 'D#5': 19, 'D-5': 20, 'D4': 21, 'D5': 22, 'D6': 23, 'E#4': 24, 'E#5': 25, 'E-4': 26, 'E-5': 27, 'E4': 28, 'E5': 29, 'E6': 30, 'F#4': 31, 'F#5': 32, 'F3': 33, 'F4': 34, 'F5': 35, 'G#4': 36, 'G#5': 37, 'G-4': 38, 'G-5': 39, 'G4': 40, 'G5': 41}\n"
          ]
        }
      ],
      "source": [
        "data = all_pairs\n",
        "\n",
        "# Step 1: Extract unique chords and notes\n",
        "unique_chords = sorted({pair[0] for pair in data})\n",
        "unique_notes = sorted({pair[1] for pair in data})\n",
        "\n",
        "# Step 2: Assign each one an index\n",
        "chord_to_idx = {chord: idx for idx, chord in enumerate(unique_chords)}\n",
        "note_to_idx = {note: idx for idx, note in enumerate(unique_notes)}\n",
        "\n",
        "# Optional: reverse maps for decoding\n",
        "idx_to_chord = {idx: chord for chord, idx in chord_to_idx.items()}\n",
        "idx_to_note = {idx: note for note, idx in note_to_idx.items()}\n",
        "\n",
        "print(\"Chord to idx:\", chord_to_idx)\n",
        "print(\"Note to idx:\", note_to_idx)\n"
      ]
    },
    {
      "cell_type": "code",
      "execution_count": 10,
      "metadata": {
        "id": "cDfYF_eNZPPM"
      },
      "outputs": [],
      "source": [
        "input_seq = []\n",
        "for chord, _ in data:\n",
        "  input_seq.append(chord_to_idx[chord])\n",
        "\n",
        "# PyTorch's sequence models expect inut with two dimensions\n",
        "# This makes it one batch with 8 time steps\n",
        "input_seq = torch.tensor(input_seq).unsqueeze(0)"
      ]
    },
    {
      "cell_type": "code",
      "execution_count": 11,
      "metadata": {
        "colab": {
          "base_uri": "https://localhost:8080/"
        },
        "id": "OLZLDctJaEoO",
        "outputId": "a7726b1f-5b7f-453f-9a33-94c5f211fda8"
      },
      "outputs": [
        {
          "output_type": "execute_result",
          "data": {
            "text/plain": [
              "tensor([[347, 347, 181,  ..., 230, 266, 224]])"
            ]
          },
          "metadata": {},
          "execution_count": 11
        }
      ],
      "source": [
        "input_seq"
      ]
    },
    {
      "cell_type": "code",
      "execution_count": 12,
      "metadata": {
        "id": "5n89BUQQagB9"
      },
      "outputs": [],
      "source": [
        "target_seq = []\n",
        "for _, note in data:\n",
        "  target_seq.append(note_to_idx[note])\n",
        "target_seq = torch.tensor(target_seq).unsqueeze(0)"
      ]
    },
    {
      "cell_type": "code",
      "execution_count": 13,
      "metadata": {
        "colab": {
          "base_uri": "https://localhost:8080/"
        },
        "id": "qj24AqsPbSgL",
        "outputId": "33c319ec-a604-4a5e-d19c-25db310be910"
      },
      "outputs": [
        {
          "output_type": "execute_result",
          "data": {
            "text/plain": [
              "tensor([[40, 40, 22,  ..., 40, 31, 28]])"
            ]
          },
          "metadata": {},
          "execution_count": 13
        }
      ],
      "source": [
        "target_seq"
      ]
    },
    {
      "cell_type": "markdown",
      "metadata": {
        "id": "fJ6HPSd8bXSf"
      },
      "source": [
        "LSTM Model"
      ]
    },
    {
      "cell_type": "code",
      "execution_count": 14,
      "metadata": {
        "id": "KNlk3WyzbTUF"
      },
      "outputs": [],
      "source": [
        "class MelodyLSTM(nn.Module):\n",
        "  # input_dim: number of possible chord types, hidden_dim: size of the internal representation, output_dim: number of possible note outputs\n",
        "  def __init__(self, input_dim, hidden_dim, output_dim):\n",
        "    super().__init__()\n",
        "    self.embedding = nn.Embedding(input_dim, hidden_dim) # maps each chord index to a vector\n",
        "    self.lstm = nn.LSTM(hidden_dim, hidden_dim, batch_first=True)\n",
        "    self.fc = nn.Linear(hidden_dim, output_dim) # maps the LSTM's output to a note prediction\n",
        "\n",
        "  def forward(self, x):\n",
        "    x = self.embedding(x)\n",
        "    x, _ = self.lstm(x)\n",
        "    return self.fc(x)"
      ]
    },
    {
      "cell_type": "markdown",
      "metadata": {
        "id": "3jEgHmt3cK-K"
      },
      "source": [
        "Train"
      ]
    },
    {
      "cell_type": "code",
      "execution_count": 15,
      "metadata": {
        "id": "WtewGgr_cAn5"
      },
      "outputs": [],
      "source": [
        "input_dim = len(chord_to_idx)\n",
        "hidden_dim = 64\n",
        "output_dim = 128\n",
        "\n",
        "model = MelodyLSTM(input_dim, hidden_dim, output_dim)\n",
        "loss_fn = nn.CrossEntropyLoss()\n",
        "optimizer = optim.Adam(model.parameters(), lr=0.01)\n"
      ]
    },
    {
      "cell_type": "code",
      "execution_count": 16,
      "metadata": {
        "colab": {
          "base_uri": "https://localhost:8080/"
        },
        "id": "uAWaD3FRdD45",
        "outputId": "55f0ef7a-3e6d-41bf-9f50-760f812b4045"
      },
      "outputs": [
        {
          "output_type": "stream",
          "name": "stdout",
          "text": [
            "Epoch 100, Loss: 0.9153\n",
            "Epoch 200, Loss: 0.5644\n",
            "Epoch 300, Loss: 0.4408\n",
            "Epoch 400, Loss: 0.2594\n",
            "Epoch 500, Loss: 0.1834\n",
            "Epoch 600, Loss: 0.1351\n",
            "Epoch 700, Loss: 0.1108\n",
            "Epoch 800, Loss: 0.1753\n",
            "Epoch 900, Loss: 0.0597\n",
            "Epoch 1000, Loss: 0.0408\n"
          ]
        }
      ],
      "source": [
        "for epoch in range(1000):\n",
        "  optimizer.zero_grad()\n",
        "  output = model(input_seq)\n",
        "  loss = loss_fn(output.view(-1, output_dim), target_seq.view(-1))\n",
        "  loss.backward()\n",
        "  optimizer.step()\n",
        "  if (epoch + 1) % 100 == 0:\n",
        "    print(f\"Epoch {epoch + 1}, Loss: {loss.item():.4f}\")\n"
      ]
    },
    {
      "cell_type": "markdown",
      "metadata": {
        "id": "Vp_8-xbadmMD"
      },
      "source": [
        "Download"
      ]
    },
    {
      "cell_type": "code",
      "execution_count": 18,
      "metadata": {
        "colab": {
          "base_uri": "https://localhost:8080/",
          "height": 17
        },
        "id": "U0nU519udhYc",
        "outputId": "2ad691ed-c150-45ea-a2d7-7fba8db19de1"
      },
      "outputs": [
        {
          "output_type": "display_data",
          "data": {
            "text/plain": [
              "<IPython.core.display.Javascript object>"
            ],
            "application/javascript": [
              "\n",
              "    async function download(id, filename, size) {\n",
              "      if (!google.colab.kernel.accessAllowed) {\n",
              "        return;\n",
              "      }\n",
              "      const div = document.createElement('div');\n",
              "      const label = document.createElement('label');\n",
              "      label.textContent = `Downloading \"${filename}\": `;\n",
              "      div.appendChild(label);\n",
              "      const progress = document.createElement('progress');\n",
              "      progress.max = size;\n",
              "      div.appendChild(progress);\n",
              "      document.body.appendChild(div);\n",
              "\n",
              "      const buffers = [];\n",
              "      let downloaded = 0;\n",
              "\n",
              "      const channel = await google.colab.kernel.comms.open(id);\n",
              "      // Send a message to notify the kernel that we're ready.\n",
              "      channel.send({})\n",
              "\n",
              "      for await (const message of channel.messages) {\n",
              "        // Send a message to notify the kernel that we're ready.\n",
              "        channel.send({})\n",
              "        if (message.buffers) {\n",
              "          for (const buffer of message.buffers) {\n",
              "            buffers.push(buffer);\n",
              "            downloaded += buffer.byteLength;\n",
              "            progress.value = downloaded;\n",
              "          }\n",
              "        }\n",
              "      }\n",
              "      const blob = new Blob(buffers, {type: 'application/binary'});\n",
              "      const a = document.createElement('a');\n",
              "      a.href = window.URL.createObjectURL(blob);\n",
              "      a.download = filename;\n",
              "      div.appendChild(a);\n",
              "      a.click();\n",
              "      div.remove();\n",
              "    }\n",
              "  "
            ]
          },
          "metadata": {}
        },
        {
          "output_type": "display_data",
          "data": {
            "text/plain": [
              "<IPython.core.display.Javascript object>"
            ],
            "application/javascript": [
              "download(\"download_f32116a7-82e5-4661-90af-52574ae20d1a\", \"music21_lstm.pth\", 284283)"
            ]
          },
          "metadata": {}
        }
      ],
      "source": [
        "torch.save(model.state_dict(), \"music21_lstm.pth\")\n",
        "\n",
        "from google.colab import files\n",
        "files.download(\"music21_lstm.pth\")\n"
      ]
    },
    {
      "cell_type": "code",
      "source": [],
      "metadata": {
        "id": "BODhP_hgQ0hZ"
      },
      "execution_count": null,
      "outputs": []
    }
  ],
  "metadata": {
    "accelerator": "GPU",
    "colab": {
      "gpuType": "T4",
      "provenance": []
    },
    "kernelspec": {
      "display_name": "Python 3",
      "name": "python3"
    },
    "language_info": {
      "name": "python"
    }
  },
  "nbformat": 4,
  "nbformat_minor": 0
}